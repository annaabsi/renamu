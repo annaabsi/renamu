{
 "cells": [
  {
   "cell_type": "code",
   "execution_count": 1,
   "metadata": {},
   "outputs": [],
   "source": [
    "import os\n",
    "import pyreadstat\n",
    "\n",
    "# Set the directory where the .sav files are located\n",
    "sav_directory = 'sav_files'\n",
    "\n",
    "# Set the directory where the .csv files should be saved\n",
    "csv_directory = 'csv_files'\n",
    "\n",
    "# Iterate through all the files in the sav directory\n",
    "for filename in os.listdir(sav_directory):\n",
    "  # Check if the file is a .sav file\n",
    "  if filename.endswith('.sav'):\n",
    "    # Read the .sav file into a DataFrame\n",
    "    df, meta = pyreadstat.read_sav(os.path.join(sav_directory, filename))\n",
    "    # Write the DataFrame to a .csv file\n",
    "    csv_filename = os.path.splitext(filename)[0] + '.csv'\n",
    "    df.to_csv(os.path.join(csv_directory, csv_filename), index=False)"
   ]
  }
 ],
 "metadata": {
  "kernelspec": {
   "display_name": "Python 3",
   "language": "python",
   "name": "python3"
  },
  "language_info": {
   "codemirror_mode": {
    "name": "ipython",
    "version": 3
   },
   "file_extension": ".py",
   "mimetype": "text/x-python",
   "name": "python",
   "nbconvert_exporter": "python",
   "pygments_lexer": "ipython3",
   "version": "3.9.7"
  },
  "orig_nbformat": 4,
  "vscode": {
   "interpreter": {
    "hash": "916dbcbb3f70747c44a77c7bcd40155683ae19c65e1c03b4aa3499c5328201f1"
   }
  }
 },
 "nbformat": 4,
 "nbformat_minor": 2
}
